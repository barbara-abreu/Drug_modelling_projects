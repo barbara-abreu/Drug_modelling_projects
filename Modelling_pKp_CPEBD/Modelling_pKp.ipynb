{
  "nbformat": 4,
  "nbformat_minor": 0,
  "metadata": {
    "colab": {
      "name": "Untitled0.ipynb",
      "provenance": []
    },
    "kernelspec": {
      "name": "python3",
      "display_name": "Python 3"
    },
    "language_info": {
      "name": "python"
    }
  },
  "cells": [
    {
      "cell_type": "code",
      "metadata": {
        "id": "Y5Q2yYtAG5Cg"
      },
      "source": [
        "# Predict pKp"
      ],
      "execution_count": 1,
      "outputs": []
    },
    {
      "cell_type": "code",
      "metadata": {
        "colab": {
          "base_uri": "https://localhost:8080/"
        },
        "id": "RZv2wl-dq9FV",
        "outputId": "f7b73881-c535-4885-c208-44632f6836a7"
      },
      "source": [
        "!pip install kora\n",
        "import kora.install.rdkit"
      ],
      "execution_count": 2,
      "outputs": [
        {
          "output_type": "stream",
          "text": [
            "Collecting kora\n",
            "\u001b[?25l  Downloading https://files.pythonhosted.org/packages/5b/0d/3d9ab9ee747f0925b038e8350ce137276a7a4730a96a3516485dc1b87ba3/kora-0.9.19-py3-none-any.whl (57kB)\n",
            "\u001b[K     |████████████████████████████████| 61kB 2.8MB/s \n",
            "\u001b[?25hCollecting fastcore\n",
            "\u001b[?25l  Downloading https://files.pythonhosted.org/packages/0c/98/60404e2817cff113a6ae4023bc1772e23179408fdf7857fa410551758dfe/fastcore-1.3.19-py3-none-any.whl (53kB)\n",
            "\u001b[K     |████████████████████████████████| 61kB 4.7MB/s \n",
            "\u001b[?25hRequirement already satisfied: ipython in /usr/local/lib/python3.7/dist-packages (from kora) (5.5.0)\n",
            "Requirement already satisfied: pip in /usr/local/lib/python3.7/dist-packages (from fastcore->kora) (19.3.1)\n",
            "Requirement already satisfied: packaging in /usr/local/lib/python3.7/dist-packages (from fastcore->kora) (20.9)\n",
            "Requirement already satisfied: decorator in /usr/local/lib/python3.7/dist-packages (from ipython->kora) (4.4.2)\n",
            "Requirement already satisfied: simplegeneric>0.8 in /usr/local/lib/python3.7/dist-packages (from ipython->kora) (0.8.1)\n",
            "Requirement already satisfied: pygments in /usr/local/lib/python3.7/dist-packages (from ipython->kora) (2.6.1)\n",
            "Requirement already satisfied: pickleshare in /usr/local/lib/python3.7/dist-packages (from ipython->kora) (0.7.5)\n",
            "Requirement already satisfied: prompt-toolkit<2.0.0,>=1.0.4 in /usr/local/lib/python3.7/dist-packages (from ipython->kora) (1.0.18)\n",
            "Requirement already satisfied: setuptools>=18.5 in /usr/local/lib/python3.7/dist-packages (from ipython->kora) (54.1.2)\n",
            "Requirement already satisfied: traitlets>=4.2 in /usr/local/lib/python3.7/dist-packages (from ipython->kora) (5.0.5)\n",
            "Requirement already satisfied: pexpect; sys_platform != \"win32\" in /usr/local/lib/python3.7/dist-packages (from ipython->kora) (4.8.0)\n",
            "Requirement already satisfied: pyparsing>=2.0.2 in /usr/local/lib/python3.7/dist-packages (from packaging->fastcore->kora) (2.4.7)\n",
            "Requirement already satisfied: six>=1.9.0 in /usr/local/lib/python3.7/dist-packages (from prompt-toolkit<2.0.0,>=1.0.4->ipython->kora) (1.15.0)\n",
            "Requirement already satisfied: wcwidth in /usr/local/lib/python3.7/dist-packages (from prompt-toolkit<2.0.0,>=1.0.4->ipython->kora) (0.2.5)\n",
            "Requirement already satisfied: ipython-genutils in /usr/local/lib/python3.7/dist-packages (from traitlets>=4.2->ipython->kora) (0.2.0)\n",
            "Requirement already satisfied: ptyprocess>=0.5 in /usr/local/lib/python3.7/dist-packages (from pexpect; sys_platform != \"win32\"->ipython->kora) (0.7.0)\n",
            "Installing collected packages: fastcore, kora\n",
            "Successfully installed fastcore-1.3.19 kora-0.9.19\n"
          ],
          "name": "stdout"
        }
      ]
    },
    {
      "cell_type": "code",
      "metadata": {
        "colab": {
          "base_uri": "https://localhost:8080/"
        },
        "id": "l2DDSUAPnjxZ",
        "outputId": "e65d4375-6788-4a0a-c9e6-60f6fb50d4ec"
      },
      "source": [
        "!pip install --pre deepchem"
      ],
      "execution_count": 3,
      "outputs": [
        {
          "output_type": "stream",
          "text": [
            "Collecting deepchem\n",
            "\u001b[?25l  Downloading https://files.pythonhosted.org/packages/92/01/0eb8ffcb25826af32ca6efcf624206ef95825ffb00a12e2db802cc0a0b22/deepchem-2.5.0-py3-none-any.whl (552kB)\n",
            "\u001b[K     |████████████████████████████████| 552kB 4.3MB/s \n",
            "\u001b[?25hRequirement already satisfied: pandas in /usr/local/lib/python3.7/dist-packages (from deepchem) (1.1.5)\n",
            "Requirement already satisfied: joblib in /usr/local/lib/python3.7/dist-packages (from deepchem) (1.0.1)\n",
            "Requirement already satisfied: numpy in /usr/local/lib/python3.7/dist-packages (from deepchem) (1.19.5)\n",
            "Requirement already satisfied: scipy in /usr/local/lib/python3.7/dist-packages (from deepchem) (1.4.1)\n",
            "Requirement already satisfied: scikit-learn in /usr/local/lib/python3.7/dist-packages (from deepchem) (0.22.2.post1)\n",
            "Requirement already satisfied: pytz>=2017.2 in /usr/local/lib/python3.7/dist-packages (from pandas->deepchem) (2018.9)\n",
            "Requirement already satisfied: python-dateutil>=2.7.3 in /usr/local/lib/python3.7/dist-packages (from pandas->deepchem) (2.8.1)\n",
            "Requirement already satisfied: six>=1.5 in /usr/local/lib/python3.7/dist-packages (from python-dateutil>=2.7.3->pandas->deepchem) (1.15.0)\n",
            "Installing collected packages: deepchem\n",
            "Successfully installed deepchem-2.5.0\n"
          ],
          "name": "stdout"
        }
      ]
    },
    {
      "cell_type": "code",
      "metadata": {
        "id": "tgthRuyzs_qA"
      },
      "source": [
        "from rdkit import Chem"
      ],
      "execution_count": 4,
      "outputs": []
    },
    {
      "cell_type": "code",
      "metadata": {
        "id": "LzSmgmLcuIBm"
      },
      "source": [
        "from rdkit.Chem import AllChem\n",
        "from rdkit import DataStructs"
      ],
      "execution_count": 5,
      "outputs": []
    },
    {
      "cell_type": "code",
      "metadata": {
        "colab": {
          "resources": {
            "http://localhost:8080/nbextensions/google.colab/files.js": {
              "data": "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",
              "ok": true,
              "headers": [
                [
                  "content-type",
                  "application/javascript"
                ]
              ],
              "status": 200,
              "status_text": "OK"
            }
          },
          "base_uri": "https://localhost:8080/",
          "height": 73
        },
        "id": "3zMBVSSFRVv9",
        "outputId": "d215b094-46fd-4751-b891-44c1fcaa9329"
      },
      "source": [
        "import pandas as pd\n",
        "from google.colab import files\n",
        "uploaded=files.upload()"
      ],
      "execution_count": 7,
      "outputs": [
        {
          "output_type": "display_data",
          "data": {
            "text/html": [
              "\n",
              "     <input type=\"file\" id=\"files-4520611a-52b8-4507-ae89-01ee7610eafd\" name=\"files[]\" multiple disabled\n",
              "        style=\"border:none\" />\n",
              "     <output id=\"result-4520611a-52b8-4507-ae89-01ee7610eafd\">\n",
              "      Upload widget is only available when the cell has been executed in the\n",
              "      current browser session. Please rerun this cell to enable.\n",
              "      </output>\n",
              "      <script src=\"/nbextensions/google.colab/files.js\"></script> "
            ],
            "text/plain": [
              "<IPython.core.display.HTML object>"
            ]
          },
          "metadata": {
            "tags": []
          }
        },
        {
          "output_type": "stream",
          "text": [
            "Saving training_set.csv to training_set.csv\n"
          ],
          "name": "stdout"
        }
      ]
    },
    {
      "cell_type": "code",
      "metadata": {
        "id": "ro_Zv6M2RXki"
      },
      "source": [
        "data=pd.read_csv('training_set.csv')"
      ],
      "execution_count": 8,
      "outputs": []
    },
    {
      "cell_type": "code",
      "metadata": {
        "colab": {
          "base_uri": "https://localhost:8080/",
          "height": 478
        },
        "id": "1ZQTzr3HSP0z",
        "outputId": "4f4fa69d-3f75-4fd9-ea02-79c13013b0cb"
      },
      "source": [
        "data"
      ],
      "execution_count": 9,
      "outputs": [
        {
          "output_type": "execute_result",
          "data": {
            "text/html": [
              "<div>\n",
              "<style scoped>\n",
              "    .dataframe tbody tr th:only-of-type {\n",
              "        vertical-align: middle;\n",
              "    }\n",
              "\n",
              "    .dataframe tbody tr th {\n",
              "        vertical-align: top;\n",
              "    }\n",
              "\n",
              "    .dataframe thead th {\n",
              "        text-align: right;\n",
              "    }\n",
              "</style>\n",
              "<table border=\"1\" class=\"dataframe\">\n",
              "  <thead>\n",
              "    <tr style=\"text-align: right;\">\n",
              "      <th></th>\n",
              "      <th>Unnamed: 0</th>\n",
              "      <th>PubChemID</th>\n",
              "      <th>SMILES</th>\n",
              "      <th>logKp</th>\n",
              "      <th>Total Molweight</th>\n",
              "      <th>cLogP</th>\n",
              "      <th>cLogS</th>\n",
              "      <th>H-Acceptors</th>\n",
              "      <th>H-Donors</th>\n",
              "      <th>Polar Surface Area</th>\n",
              "      <th>Rotatable Bonds</th>\n",
              "      <th>Aromatic Rings</th>\n",
              "      <th>sp3-Atoms</th>\n",
              "      <th>amide_amide</th>\n",
              "      <th>amide_amides</th>\n",
              "      <th>amine_amine</th>\n",
              "      <th>alkyl-amine_alkyl-amine</th>\n",
              "      <th>aromatic amine_aromatic amine</th>\n",
              "      <th>aromatic nitrogen_aromatic nitrogen</th>\n",
              "      <th>basic nitrogen_basic nitrogen</th>\n",
              "      <th>acidic oxygen_acidic oxygen</th>\n",
              "      <th>acidic oxygen_acidic oxygens</th>\n",
              "      <th>AA</th>\n",
              "      <th>ALCOHOL</th>\n",
              "      <th>ALIPH. MISC.</th>\n",
              "      <th>AROM. MISC.</th>\n",
              "      <th>AZEPANE</th>\n",
              "      <th>AZONE OTHER</th>\n",
              "      <th>CAPROLACTAM</th>\n",
              "      <th>ESTER</th>\n",
              "      <th>ETHER</th>\n",
              "      <th>FATTY ACID</th>\n",
              "      <th>INORGANIC MISC.</th>\n",
              "      <th>MORPHOLINE</th>\n",
              "      <th>PIPERAZINE</th>\n",
              "      <th>PIPERIDINE</th>\n",
              "      <th>PIPERIDONE</th>\n",
              "      <th>POLYOL</th>\n",
              "      <th>PYRROLIDINE</th>\n",
              "      <th>PYRROLIDONE</th>\n",
              "      <th>STEROID</th>\n",
              "      <th>SUCCINIMIDE</th>\n",
              "      <th>SURF</th>\n",
              "      <th>TERP</th>\n",
              "    </tr>\n",
              "  </thead>\n",
              "  <tbody>\n",
              "    <tr>\n",
              "      <th>0</th>\n",
              "      <td>0</td>\n",
              "      <td>137</td>\n",
              "      <td>C(CC(=O)O)C(=O)CN</td>\n",
              "      <td>-4.15</td>\n",
              "      <td>131.1300</td>\n",
              "      <td>-3.0402</td>\n",
              "      <td>-0.490</td>\n",
              "      <td>4</td>\n",
              "      <td>2</td>\n",
              "      <td>80.39</td>\n",
              "      <td>4</td>\n",
              "      <td>0</td>\n",
              "      <td>5</td>\n",
              "      <td>0</td>\n",
              "      <td>0</td>\n",
              "      <td>1</td>\n",
              "      <td>1</td>\n",
              "      <td>0</td>\n",
              "      <td>0</td>\n",
              "      <td>1</td>\n",
              "      <td>1</td>\n",
              "      <td>0</td>\n",
              "      <td>1</td>\n",
              "      <td>0</td>\n",
              "      <td>0</td>\n",
              "      <td>0</td>\n",
              "      <td>0</td>\n",
              "      <td>0</td>\n",
              "      <td>0</td>\n",
              "      <td>0</td>\n",
              "      <td>0</td>\n",
              "      <td>0</td>\n",
              "      <td>0</td>\n",
              "      <td>0</td>\n",
              "      <td>0</td>\n",
              "      <td>0</td>\n",
              "      <td>0</td>\n",
              "      <td>0</td>\n",
              "      <td>0</td>\n",
              "      <td>0</td>\n",
              "      <td>0</td>\n",
              "      <td>0</td>\n",
              "      <td>0</td>\n",
              "      <td>0</td>\n",
              "    </tr>\n",
              "    <tr>\n",
              "      <th>1</th>\n",
              "      <td>1</td>\n",
              "      <td>85362</td>\n",
              "      <td>C(C(=O)NC(CC1=CNC2=CC=CC=C21)C(=O)O)N</td>\n",
              "      <td>-4.82</td>\n",
              "      <td>275.3070</td>\n",
              "      <td>-2.0668</td>\n",
              "      <td>-2.211</td>\n",
              "      <td>6</td>\n",
              "      <td>4</td>\n",
              "      <td>108.21</td>\n",
              "      <td>5</td>\n",
              "      <td>2</td>\n",
              "      <td>6</td>\n",
              "      <td>1</td>\n",
              "      <td>0</td>\n",
              "      <td>1</td>\n",
              "      <td>1</td>\n",
              "      <td>0</td>\n",
              "      <td>1</td>\n",
              "      <td>1</td>\n",
              "      <td>1</td>\n",
              "      <td>0</td>\n",
              "      <td>1</td>\n",
              "      <td>0</td>\n",
              "      <td>0</td>\n",
              "      <td>0</td>\n",
              "      <td>0</td>\n",
              "      <td>0</td>\n",
              "      <td>0</td>\n",
              "      <td>0</td>\n",
              "      <td>0</td>\n",
              "      <td>0</td>\n",
              "      <td>0</td>\n",
              "      <td>0</td>\n",
              "      <td>0</td>\n",
              "      <td>0</td>\n",
              "      <td>0</td>\n",
              "      <td>0</td>\n",
              "      <td>0</td>\n",
              "      <td>0</td>\n",
              "      <td>0</td>\n",
              "      <td>0</td>\n",
              "      <td>0</td>\n",
              "      <td>0</td>\n",
              "    </tr>\n",
              "    <tr>\n",
              "      <th>2</th>\n",
              "      <td>2</td>\n",
              "      <td>750</td>\n",
              "      <td>C(C(=O)O)N</td>\n",
              "      <td>-4.42</td>\n",
              "      <td>75.0667</td>\n",
              "      <td>-3.3504</td>\n",
              "      <td>-0.028</td>\n",
              "      <td>3</td>\n",
              "      <td>2</td>\n",
              "      <td>63.32</td>\n",
              "      <td>1</td>\n",
              "      <td>0</td>\n",
              "      <td>3</td>\n",
              "      <td>0</td>\n",
              "      <td>0</td>\n",
              "      <td>1</td>\n",
              "      <td>1</td>\n",
              "      <td>0</td>\n",
              "      <td>0</td>\n",
              "      <td>1</td>\n",
              "      <td>1</td>\n",
              "      <td>0</td>\n",
              "      <td>1</td>\n",
              "      <td>0</td>\n",
              "      <td>0</td>\n",
              "      <td>0</td>\n",
              "      <td>0</td>\n",
              "      <td>0</td>\n",
              "      <td>0</td>\n",
              "      <td>0</td>\n",
              "      <td>0</td>\n",
              "      <td>0</td>\n",
              "      <td>0</td>\n",
              "      <td>0</td>\n",
              "      <td>0</td>\n",
              "      <td>0</td>\n",
              "      <td>0</td>\n",
              "      <td>0</td>\n",
              "      <td>0</td>\n",
              "      <td>0</td>\n",
              "      <td>0</td>\n",
              "      <td>0</td>\n",
              "      <td>0</td>\n",
              "      <td>0</td>\n",
              "    </tr>\n",
              "    <tr>\n",
              "      <th>3</th>\n",
              "      <td>3</td>\n",
              "      <td>5962</td>\n",
              "      <td>C(CCN)CC(C(=O)O)N</td>\n",
              "      <td>-4.77</td>\n",
              "      <td>146.1890</td>\n",
              "      <td>-4.6792</td>\n",
              "      <td>-0.785</td>\n",
              "      <td>4</td>\n",
              "      <td>3</td>\n",
              "      <td>89.34</td>\n",
              "      <td>5</td>\n",
              "      <td>0</td>\n",
              "      <td>8</td>\n",
              "      <td>0</td>\n",
              "      <td>0</td>\n",
              "      <td>1</td>\n",
              "      <td>1</td>\n",
              "      <td>0</td>\n",
              "      <td>0</td>\n",
              "      <td>1</td>\n",
              "      <td>1</td>\n",
              "      <td>0</td>\n",
              "      <td>1</td>\n",
              "      <td>0</td>\n",
              "      <td>0</td>\n",
              "      <td>0</td>\n",
              "      <td>0</td>\n",
              "      <td>0</td>\n",
              "      <td>0</td>\n",
              "      <td>0</td>\n",
              "      <td>0</td>\n",
              "      <td>0</td>\n",
              "      <td>0</td>\n",
              "      <td>0</td>\n",
              "      <td>0</td>\n",
              "      <td>0</td>\n",
              "      <td>0</td>\n",
              "      <td>0</td>\n",
              "      <td>0</td>\n",
              "      <td>0</td>\n",
              "      <td>0</td>\n",
              "      <td>0</td>\n",
              "      <td>0</td>\n",
              "      <td>0</td>\n",
              "    </tr>\n",
              "    <tr>\n",
              "      <th>4</th>\n",
              "      <td>4</td>\n",
              "      <td>424</td>\n",
              "      <td>C(C(C(=O)O)N)C(=O)O</td>\n",
              "      <td>-5.03</td>\n",
              "      <td>133.1030</td>\n",
              "      <td>-3.8130</td>\n",
              "      <td>-0.151</td>\n",
              "      <td>5</td>\n",
              "      <td>3</td>\n",
              "      <td>100.62</td>\n",
              "      <td>3</td>\n",
              "      <td>0</td>\n",
              "      <td>5</td>\n",
              "      <td>0</td>\n",
              "      <td>0</td>\n",
              "      <td>1</td>\n",
              "      <td>1</td>\n",
              "      <td>0</td>\n",
              "      <td>0</td>\n",
              "      <td>1</td>\n",
              "      <td>1</td>\n",
              "      <td>0</td>\n",
              "      <td>1</td>\n",
              "      <td>0</td>\n",
              "      <td>0</td>\n",
              "      <td>0</td>\n",
              "      <td>0</td>\n",
              "      <td>0</td>\n",
              "      <td>0</td>\n",
              "      <td>0</td>\n",
              "      <td>0</td>\n",
              "      <td>0</td>\n",
              "      <td>0</td>\n",
              "      <td>0</td>\n",
              "      <td>0</td>\n",
              "      <td>0</td>\n",
              "      <td>0</td>\n",
              "      <td>0</td>\n",
              "      <td>0</td>\n",
              "      <td>0</td>\n",
              "      <td>0</td>\n",
              "      <td>0</td>\n",
              "      <td>0</td>\n",
              "      <td>0</td>\n",
              "    </tr>\n",
              "    <tr>\n",
              "      <th>...</th>\n",
              "      <td>...</td>\n",
              "      <td>...</td>\n",
              "      <td>...</td>\n",
              "      <td>...</td>\n",
              "      <td>...</td>\n",
              "      <td>...</td>\n",
              "      <td>...</td>\n",
              "      <td>...</td>\n",
              "      <td>...</td>\n",
              "      <td>...</td>\n",
              "      <td>...</td>\n",
              "      <td>...</td>\n",
              "      <td>...</td>\n",
              "      <td>...</td>\n",
              "      <td>...</td>\n",
              "      <td>...</td>\n",
              "      <td>...</td>\n",
              "      <td>...</td>\n",
              "      <td>...</td>\n",
              "      <td>...</td>\n",
              "      <td>...</td>\n",
              "      <td>...</td>\n",
              "      <td>...</td>\n",
              "      <td>...</td>\n",
              "      <td>...</td>\n",
              "      <td>...</td>\n",
              "      <td>...</td>\n",
              "      <td>...</td>\n",
              "      <td>...</td>\n",
              "      <td>...</td>\n",
              "      <td>...</td>\n",
              "      <td>...</td>\n",
              "      <td>...</td>\n",
              "      <td>...</td>\n",
              "      <td>...</td>\n",
              "      <td>...</td>\n",
              "      <td>...</td>\n",
              "      <td>...</td>\n",
              "      <td>...</td>\n",
              "      <td>...</td>\n",
              "      <td>...</td>\n",
              "      <td>...</td>\n",
              "      <td>...</td>\n",
              "      <td>...</td>\n",
              "    </tr>\n",
              "    <tr>\n",
              "      <th>158</th>\n",
              "      <td>641</td>\n",
              "      <td>170833</td>\n",
              "      <td>C[C@@H]1CC[C@H]([C@@H](C1)O)C(=C)C</td>\n",
              "      <td>-3.72</td>\n",
              "      <td>154.2520</td>\n",
              "      <td>2.6138</td>\n",
              "      <td>-2.404</td>\n",
              "      <td>1</td>\n",
              "      <td>1</td>\n",
              "      <td>20.23</td>\n",
              "      <td>1</td>\n",
              "      <td>0</td>\n",
              "      <td>9</td>\n",
              "      <td>0</td>\n",
              "      <td>0</td>\n",
              "      <td>0</td>\n",
              "      <td>0</td>\n",
              "      <td>0</td>\n",
              "      <td>0</td>\n",
              "      <td>0</td>\n",
              "      <td>0</td>\n",
              "      <td>0</td>\n",
              "      <td>0</td>\n",
              "      <td>0</td>\n",
              "      <td>0</td>\n",
              "      <td>0</td>\n",
              "      <td>0</td>\n",
              "      <td>0</td>\n",
              "      <td>0</td>\n",
              "      <td>0</td>\n",
              "      <td>0</td>\n",
              "      <td>0</td>\n",
              "      <td>0</td>\n",
              "      <td>0</td>\n",
              "      <td>0</td>\n",
              "      <td>0</td>\n",
              "      <td>0</td>\n",
              "      <td>0</td>\n",
              "      <td>0</td>\n",
              "      <td>0</td>\n",
              "      <td>0</td>\n",
              "      <td>0</td>\n",
              "      <td>0</td>\n",
              "      <td>1</td>\n",
              "    </tr>\n",
              "    <tr>\n",
              "      <th>159</th>\n",
              "      <td>643</td>\n",
              "      <td>442495</td>\n",
              "      <td>C[C@@H]1CCC(=C(C)C)C(=O)C1</td>\n",
              "      <td>-2.87</td>\n",
              "      <td>152.2360</td>\n",
              "      <td>2.8501</td>\n",
              "      <td>-2.252</td>\n",
              "      <td>1</td>\n",
              "      <td>0</td>\n",
              "      <td>17.07</td>\n",
              "      <td>0</td>\n",
              "      <td>0</td>\n",
              "      <td>7</td>\n",
              "      <td>0</td>\n",
              "      <td>0</td>\n",
              "      <td>0</td>\n",
              "      <td>0</td>\n",
              "      <td>0</td>\n",
              "      <td>0</td>\n",
              "      <td>0</td>\n",
              "      <td>0</td>\n",
              "      <td>0</td>\n",
              "      <td>0</td>\n",
              "      <td>0</td>\n",
              "      <td>0</td>\n",
              "      <td>0</td>\n",
              "      <td>0</td>\n",
              "      <td>0</td>\n",
              "      <td>0</td>\n",
              "      <td>0</td>\n",
              "      <td>0</td>\n",
              "      <td>0</td>\n",
              "      <td>0</td>\n",
              "      <td>0</td>\n",
              "      <td>0</td>\n",
              "      <td>0</td>\n",
              "      <td>0</td>\n",
              "      <td>0</td>\n",
              "      <td>0</td>\n",
              "      <td>0</td>\n",
              "      <td>0</td>\n",
              "      <td>0</td>\n",
              "      <td>0</td>\n",
              "      <td>1</td>\n",
              "    </tr>\n",
              "    <tr>\n",
              "      <th>160</th>\n",
              "      <td>644</td>\n",
              "      <td>6989</td>\n",
              "      <td>CC1=CC(=C(C=C1)C(C)C)O</td>\n",
              "      <td>-3.74</td>\n",
              "      <td>150.2200</td>\n",
              "      <td>2.8448</td>\n",
              "      <td>-2.535</td>\n",
              "      <td>1</td>\n",
              "      <td>1</td>\n",
              "      <td>20.23</td>\n",
              "      <td>1</td>\n",
              "      <td>1</td>\n",
              "      <td>5</td>\n",
              "      <td>0</td>\n",
              "      <td>0</td>\n",
              "      <td>0</td>\n",
              "      <td>0</td>\n",
              "      <td>0</td>\n",
              "      <td>0</td>\n",
              "      <td>0</td>\n",
              "      <td>0</td>\n",
              "      <td>0</td>\n",
              "      <td>0</td>\n",
              "      <td>0</td>\n",
              "      <td>0</td>\n",
              "      <td>0</td>\n",
              "      <td>0</td>\n",
              "      <td>0</td>\n",
              "      <td>0</td>\n",
              "      <td>0</td>\n",
              "      <td>0</td>\n",
              "      <td>0</td>\n",
              "      <td>0</td>\n",
              "      <td>0</td>\n",
              "      <td>0</td>\n",
              "      <td>0</td>\n",
              "      <td>0</td>\n",
              "      <td>0</td>\n",
              "      <td>0</td>\n",
              "      <td>0</td>\n",
              "      <td>0</td>\n",
              "      <td>0</td>\n",
              "      <td>0</td>\n",
              "      <td>1</td>\n",
              "    </tr>\n",
              "    <tr>\n",
              "      <th>161</th>\n",
              "      <td>646</td>\n",
              "      <td>7438</td>\n",
              "      <td>CC1=CCC(CC1O)C(=C)C</td>\n",
              "      <td>-2.91</td>\n",
              "      <td>152.2360</td>\n",
              "      <td>2.5093</td>\n",
              "      <td>-2.140</td>\n",
              "      <td>1</td>\n",
              "      <td>1</td>\n",
              "      <td>20.23</td>\n",
              "      <td>1</td>\n",
              "      <td>0</td>\n",
              "      <td>7</td>\n",
              "      <td>0</td>\n",
              "      <td>0</td>\n",
              "      <td>0</td>\n",
              "      <td>0</td>\n",
              "      <td>0</td>\n",
              "      <td>0</td>\n",
              "      <td>0</td>\n",
              "      <td>0</td>\n",
              "      <td>0</td>\n",
              "      <td>0</td>\n",
              "      <td>0</td>\n",
              "      <td>0</td>\n",
              "      <td>0</td>\n",
              "      <td>0</td>\n",
              "      <td>0</td>\n",
              "      <td>0</td>\n",
              "      <td>0</td>\n",
              "      <td>0</td>\n",
              "      <td>0</td>\n",
              "      <td>0</td>\n",
              "      <td>0</td>\n",
              "      <td>0</td>\n",
              "      <td>0</td>\n",
              "      <td>0</td>\n",
              "      <td>0</td>\n",
              "      <td>0</td>\n",
              "      <td>0</td>\n",
              "      <td>0</td>\n",
              "      <td>0</td>\n",
              "      <td>0</td>\n",
              "      <td>1</td>\n",
              "    </tr>\n",
              "    <tr>\n",
              "      <th>162</th>\n",
              "      <td>648</td>\n",
              "      <td>7460</td>\n",
              "      <td>CC1=CCC(C=C1)C(C)C</td>\n",
              "      <td>-2.23</td>\n",
              "      <td>136.2370</td>\n",
              "      <td>2.8834</td>\n",
              "      <td>-2.408</td>\n",
              "      <td>0</td>\n",
              "      <td>0</td>\n",
              "      <td>0.00</td>\n",
              "      <td>1</td>\n",
              "      <td>0</td>\n",
              "      <td>6</td>\n",
              "      <td>0</td>\n",
              "      <td>0</td>\n",
              "      <td>0</td>\n",
              "      <td>0</td>\n",
              "      <td>0</td>\n",
              "      <td>0</td>\n",
              "      <td>0</td>\n",
              "      <td>0</td>\n",
              "      <td>0</td>\n",
              "      <td>0</td>\n",
              "      <td>0</td>\n",
              "      <td>0</td>\n",
              "      <td>0</td>\n",
              "      <td>0</td>\n",
              "      <td>0</td>\n",
              "      <td>0</td>\n",
              "      <td>0</td>\n",
              "      <td>0</td>\n",
              "      <td>0</td>\n",
              "      <td>0</td>\n",
              "      <td>0</td>\n",
              "      <td>0</td>\n",
              "      <td>0</td>\n",
              "      <td>0</td>\n",
              "      <td>0</td>\n",
              "      <td>0</td>\n",
              "      <td>0</td>\n",
              "      <td>0</td>\n",
              "      <td>0</td>\n",
              "      <td>0</td>\n",
              "      <td>1</td>\n",
              "    </tr>\n",
              "  </tbody>\n",
              "</table>\n",
              "<p>163 rows × 44 columns</p>\n",
              "</div>"
            ],
            "text/plain": [
              "     Unnamed: 0  PubChemID  ... SURF TERP\n",
              "0             0        137  ...    0    0\n",
              "1             1      85362  ...    0    0\n",
              "2             2        750  ...    0    0\n",
              "3             3       5962  ...    0    0\n",
              "4             4        424  ...    0    0\n",
              "..          ...        ...  ...  ...  ...\n",
              "158         641     170833  ...    0    1\n",
              "159         643     442495  ...    0    1\n",
              "160         644       6989  ...    0    1\n",
              "161         646       7438  ...    0    1\n",
              "162         648       7460  ...    0    1\n",
              "\n",
              "[163 rows x 44 columns]"
            ]
          },
          "metadata": {
            "tags": []
          },
          "execution_count": 9
        }
      ]
    },
    {
      "cell_type": "code",
      "metadata": {
        "colab": {
          "base_uri": "https://localhost:8080/"
        },
        "id": "2R0JZJejWL-H",
        "outputId": "ef80c085-3240-4610-fc0f-9b7ad2f1fa6a"
      },
      "source": [
        "data.columns"
      ],
      "execution_count": 59,
      "outputs": [
        {
          "output_type": "execute_result",
          "data": {
            "text/plain": [
              "Index(['DBMolID', 'PubChemID', 'SMILES', 'logKp', 'Total Molweight', 'cLogP',\n",
              "       'cLogS', 'H-Acceptors', 'H-Donors', 'Polar Surface Area',\n",
              "       'Rotatable Bonds', 'Aromatic Rings', 'sp3-Atoms', 'amide_amide',\n",
              "       'amide_amides', 'amine_amine', 'alkyl-amine_alkyl-amine',\n",
              "       'aromatic amine_aromatic amine', 'aromatic nitrogen_aromatic nitrogen',\n",
              "       'basic nitrogen_basic nitrogen', 'acidic oxygen_acidic oxygen',\n",
              "       'acidic oxygen_acidic oxygens', 'AA', 'ALCOHOL', 'ALIPH. MISC.',\n",
              "       'AROM. MISC.', 'AZEPANE', 'AZONE OTHER', 'CAPROLACTAM', 'ESTER',\n",
              "       'ETHER', 'FATTY ACID', 'INORGANIC MISC.', 'MORPHOLINE', 'PIPERAZINE',\n",
              "       'PIPERIDINE', 'PIPERIDONE', 'POLYOL', 'PYRROLIDINE', 'PYRROLIDONE',\n",
              "       'STEROID', 'SUCCINIMIDE', 'SURF', 'TERP'],\n",
              "      dtype='object')"
            ]
          },
          "metadata": {
            "tags": []
          },
          "execution_count": 59
        }
      ]
    },
    {
      "cell_type": "code",
      "metadata": {
        "id": "UU8T8UQaWQK6",
        "colab": {
          "base_uri": "https://localhost:8080/"
        },
        "outputId": "ba7962db-323a-4f56-9b0c-9d1ba139ae6c"
      },
      "source": [
        "data=pd.read_csv('training_set.csv')\n",
        "data=data.rename(columns={'Unnamed: 0':'DBMolID'})\n",
        "test=data['SMILES']\n",
        "list_smiles=test.to_list()\n",
        "mols_smiles=[Chem.MolFromSmiles(i) for i in list_smiles]\n",
        "print (mols_smiles)\n",
        "vec_smiles=[AllChem.GetMorganFingerprintAsBitVect(i, 2, nBits=1024) for i in mols_smiles]\n",
        "#Must be list comprehension map(lambda x: , mols_smiles)\n",
        "#print (vec_smiles)\n",
        "#vec_smiles\n",
        "\n",
        "name_cols=['bit_'+str(f) for f in range(1,1025) ]\n",
        "cols=[list(elem) for elem in vec_smiles]\n",
        "\n",
        "bits_feat=pd.DataFrame(cols, columns=name_cols)\n",
        "\n",
        "tmpd=pd.concat([data, bits_feat], axis=1)\n",
        "#Can the moiety columns  be redundant with the bits?\n",
        "df_4_model=tmpd.drop(['DBMolID', 'PubChemID', 'SMILES'],axis=1)\n",
        "\n",
        "\n"
      ],
      "execution_count": 80,
      "outputs": [
        {
          "output_type": "stream",
          "text": [
            "[<rdkit.Chem.rdchem.Mol object at 0x7f5d75e4b350>, <rdkit.Chem.rdchem.Mol object at 0x7f5d75e38f80>, <rdkit.Chem.rdchem.Mol object at 0x7f5d75ea9a30>, <rdkit.Chem.rdchem.Mol object at 0x7f5d75ea98a0>, <rdkit.Chem.rdchem.Mol object at 0x7f5d75ea9d00>, <rdkit.Chem.rdchem.Mol object at 0x7f5d75ea2b70>, <rdkit.Chem.rdchem.Mol object at 0x7f5d75ea2a80>, <rdkit.Chem.rdchem.Mol object at 0x7f5d75ea2990>, <rdkit.Chem.rdchem.Mol object at 0x7f5d75ea28a0>, <rdkit.Chem.rdchem.Mol object at 0x7f5d75ea27b0>, <rdkit.Chem.rdchem.Mol object at 0x7f5d75ea26c0>, <rdkit.Chem.rdchem.Mol object at 0x7f5d75ea25d0>, <rdkit.Chem.rdchem.Mol object at 0x7f5d75ea24e0>, <rdkit.Chem.rdchem.Mol object at 0x7f5d75ea23f0>, <rdkit.Chem.rdchem.Mol object at 0x7f5d75ea2300>, <rdkit.Chem.rdchem.Mol object at 0x7f5d75ea2210>, <rdkit.Chem.rdchem.Mol object at 0x7f5d75ea2120>, <rdkit.Chem.rdchem.Mol object at 0x7f5d75ea2030>, <rdkit.Chem.rdchem.Mol object at 0x7f5d75ea2c60>, <rdkit.Chem.rdchem.Mol object at 0x7f5d75ea2f30>, <rdkit.Chem.rdchem.Mol object at 0x7f5d75ea2ee0>, <rdkit.Chem.rdchem.Mol object at 0x7f5d75ea2d00>, <rdkit.Chem.rdchem.Mol object at 0x7f5d75ea2f80>, <rdkit.Chem.rdchem.Mol object at 0x7f5d75ea2c10>, <rdkit.Chem.rdchem.Mol object at 0x7f5d75ea2df0>, <rdkit.Chem.rdchem.Mol object at 0x7f5d75ea2b20>, <rdkit.Chem.rdchem.Mol object at 0x7f5d75ea2e90>, <rdkit.Chem.rdchem.Mol object at 0x7f5d75ea2a30>, <rdkit.Chem.rdchem.Mol object at 0x7f5d75ea2da0>, <rdkit.Chem.rdchem.Mol object at 0x7f5d75ea2940>, <rdkit.Chem.rdchem.Mol object at 0x7f5d75ea2cb0>, <rdkit.Chem.rdchem.Mol object at 0x7f5d75ea2bc0>, <rdkit.Chem.rdchem.Mol object at 0x7f5d75e44bc0>, <rdkit.Chem.rdchem.Mol object at 0x7f5d75e44d50>, <rdkit.Chem.rdchem.Mol object at 0x7f5d75e44ee0>, <rdkit.Chem.rdchem.Mol object at 0x7f5d75e441c0>, <rdkit.Chem.rdchem.Mol object at 0x7f5d75e44210>, <rdkit.Chem.rdchem.Mol object at 0x7f5d75e444e0>, <rdkit.Chem.rdchem.Mol object at 0x7f5d75e26530>, <rdkit.Chem.rdchem.Mol object at 0x7f5d75e264e0>, <rdkit.Chem.rdchem.Mol object at 0x7f5d75e26490>, <rdkit.Chem.rdchem.Mol object at 0x7f5d75e26440>, <rdkit.Chem.rdchem.Mol object at 0x7f5d75e263f0>, <rdkit.Chem.rdchem.Mol object at 0x7f5d75e263a0>, <rdkit.Chem.rdchem.Mol object at 0x7f5d75e26350>, <rdkit.Chem.rdchem.Mol object at 0x7f5d75e26300>, <rdkit.Chem.rdchem.Mol object at 0x7f5d75e265d0>, <rdkit.Chem.rdchem.Mol object at 0x7f5d75e26b20>, <rdkit.Chem.rdchem.Mol object at 0x7f5d75e26f80>, <rdkit.Chem.rdchem.Mol object at 0x7f5d75e269e0>, <rdkit.Chem.rdchem.Mol object at 0x7f5d75e26d50>, <rdkit.Chem.rdchem.Mol object at 0x7f5d75e26da0>, <rdkit.Chem.rdchem.Mol object at 0x7f5d75e9a580>, <rdkit.Chem.rdchem.Mol object at 0x7f5d75e9a350>, <rdkit.Chem.rdchem.Mol object at 0x7f5d75e9a670>, <rdkit.Chem.rdchem.Mol object at 0x7f5d75e9a800>, <rdkit.Chem.rdchem.Mol object at 0x7f5d75e9a120>, <rdkit.Chem.rdchem.Mol object at 0x7f5d75e9a620>, <rdkit.Chem.rdchem.Mol object at 0x7f5d75e9aee0>, <rdkit.Chem.rdchem.Mol object at 0x7f5d75e9a260>, <rdkit.Chem.rdchem.Mol object at 0x7f5d75e9ad00>, <rdkit.Chem.rdchem.Mol object at 0x7f5d75e9adf0>, <rdkit.Chem.rdchem.Mol object at 0x7f5d75e9a990>, <rdkit.Chem.rdchem.Mol object at 0x7f5d75e9a490>, <rdkit.Chem.rdchem.Mol object at 0x7f5d75e9acb0>, <rdkit.Chem.rdchem.Mol object at 0x7f5d75e9ae90>, <rdkit.Chem.rdchem.Mol object at 0x7f5d75e9a9e0>, <rdkit.Chem.rdchem.Mol object at 0x7f5d75ea18f0>, <rdkit.Chem.rdchem.Mol object at 0x7f5d75ea10d0>, <rdkit.Chem.rdchem.Mol object at 0x7f5d75ea11c0>, <rdkit.Chem.rdchem.Mol object at 0x7f5d75ea1f30>, <rdkit.Chem.rdchem.Mol object at 0x7f5d75ea1d00>, <rdkit.Chem.rdchem.Mol object at 0x7f5d75ea16c0>, <rdkit.Chem.rdchem.Mol object at 0x7f5d75ea1210>, <rdkit.Chem.rdchem.Mol object at 0x7f5d75ea1a80>, <rdkit.Chem.rdchem.Mol object at 0x7f5d75ea1490>, <rdkit.Chem.rdchem.Mol object at 0x7f5d75ea1580>, <rdkit.Chem.rdchem.Mol object at 0x7f5d75ea19e0>, <rdkit.Chem.rdchem.Mol object at 0x7f5d75ea1c60>, <rdkit.Chem.rdchem.Mol object at 0x7f5d75ea1170>, <rdkit.Chem.rdchem.Mol object at 0x7f5d75ea1e90>, <rdkit.Chem.rdchem.Mol object at 0x7f5d75ea1800>, <rdkit.Chem.rdchem.Mol object at 0x7f5d75ea18a0>, <rdkit.Chem.rdchem.Mol object at 0x7f5d75ea17b0>, <rdkit.Chem.rdchem.Mol object at 0x7f5d75ea15d0>, <rdkit.Chem.rdchem.Mol object at 0x7f5d75ea13a0>, <rdkit.Chem.rdchem.Mol object at 0x7f5d75ea1120>, <rdkit.Chem.rdchem.Mol object at 0x7f5d75ea1ad0>, <rdkit.Chem.rdchem.Mol object at 0x7f5d75ea14e0>, <rdkit.Chem.rdchem.Mol object at 0x7f5d75ea1a30>, <rdkit.Chem.rdchem.Mol object at 0x7f5d75ea1710>, <rdkit.Chem.rdchem.Mol object at 0x7f5d75ea1030>, <rdkit.Chem.rdchem.Mol object at 0x7f5d75ea1990>, <rdkit.Chem.rdchem.Mol object at 0x7f5d75ea1350>, <rdkit.Chem.rdchem.Mol object at 0x7f5d75ea1b20>, <rdkit.Chem.rdchem.Mol object at 0x7f5d75ea1760>, <rdkit.Chem.rdchem.Mol object at 0x7f5d75ea1260>, <rdkit.Chem.rdchem.Mol object at 0x7f5d75ea1ee0>, <rdkit.Chem.rdchem.Mol object at 0x7f5d75df4a30>, <rdkit.Chem.rdchem.Mol object at 0x7f5d75df46c0>, <rdkit.Chem.rdchem.Mol object at 0x7f5d75df4300>, <rdkit.Chem.rdchem.Mol object at 0x7f5d75df4080>, <rdkit.Chem.rdchem.Mol object at 0x7f5d75df43a0>, <rdkit.Chem.rdchem.Mol object at 0x7f5d75df4580>, <rdkit.Chem.rdchem.Mol object at 0x7f5d75df4490>, <rdkit.Chem.rdchem.Mol object at 0x7f5d75df41c0>, <rdkit.Chem.rdchem.Mol object at 0x7f5d75df4210>, <rdkit.Chem.rdchem.Mol object at 0x7f5d75df44e0>, <rdkit.Chem.rdchem.Mol object at 0x7f5d75df4990>, <rdkit.Chem.rdchem.Mol object at 0x7f5d75df42b0>, <rdkit.Chem.rdchem.Mol object at 0x7f5d75df4440>, <rdkit.Chem.rdchem.Mol object at 0x7f5d75df4f80>, <rdkit.Chem.rdchem.Mol object at 0x7f5d75df49e0>, <rdkit.Chem.rdchem.Mol object at 0x7f5d75df4ad0>, <rdkit.Chem.rdchem.Mol object at 0x7f5d75df4c60>, <rdkit.Chem.rdchem.Mol object at 0x7f5d75df4530>, <rdkit.Chem.rdchem.Mol object at 0x7f5d75df4120>, <rdkit.Chem.rdchem.Mol object at 0x7f5d75df40d0>, <rdkit.Chem.rdchem.Mol object at 0x7f5d75f9f440>, <rdkit.Chem.rdchem.Mol object at 0x7f5d75f9fc10>, <rdkit.Chem.rdchem.Mol object at 0x7f5d75f9fc60>, <rdkit.Chem.rdchem.Mol object at 0x7f5d75f9fad0>, <rdkit.Chem.rdchem.Mol object at 0x7f5d75f9fda0>, <rdkit.Chem.rdchem.Mol object at 0x7f5d75f9f9e0>, <rdkit.Chem.rdchem.Mol object at 0x7f5d75f9f8f0>, <rdkit.Chem.rdchem.Mol object at 0x7f5d75f9f710>, <rdkit.Chem.rdchem.Mol object at 0x7f5d75f9f530>, <rdkit.Chem.rdchem.Mol object at 0x7f5d75f9f490>, <rdkit.Chem.rdchem.Mol object at 0x7f5d75f9f620>, <rdkit.Chem.rdchem.Mol object at 0x7f5d75f9f670>, <rdkit.Chem.rdchem.Mol object at 0x7f5d75f9fe40>, <rdkit.Chem.rdchem.Mol object at 0x7f5d75f9fd00>, <rdkit.Chem.rdchem.Mol object at 0x7f5d75f9fbc0>, <rdkit.Chem.rdchem.Mol object at 0x7f5d75f9fd50>, <rdkit.Chem.rdchem.Mol object at 0x7f5d75f9f800>, <rdkit.Chem.rdchem.Mol object at 0x7f5d75f9f5d0>, <rdkit.Chem.rdchem.Mol object at 0x7f5d75f9fb20>, <rdkit.Chem.rdchem.Mol object at 0x7f5d75f9fa80>, <rdkit.Chem.rdchem.Mol object at 0x7f5d75f9f850>, <rdkit.Chem.rdchem.Mol object at 0x7f5d75f9fe90>, <rdkit.Chem.rdchem.Mol object at 0x7f5d75f9fcb0>, <rdkit.Chem.rdchem.Mol object at 0x7f5d75eaca30>, <rdkit.Chem.rdchem.Mol object at 0x7f5d75eac850>, <rdkit.Chem.rdchem.Mol object at 0x7f5d75eacee0>, <rdkit.Chem.rdchem.Mol object at 0x7f5d75eac710>, <rdkit.Chem.rdchem.Mol object at 0x7f5d75eac8a0>, <rdkit.Chem.rdchem.Mol object at 0x7f5d75eacdf0>, <rdkit.Chem.rdchem.Mol object at 0x7f5d75e47850>, <rdkit.Chem.rdchem.Mol object at 0x7f5d75e47760>, <rdkit.Chem.rdchem.Mol object at 0x7f5d75e47ee0>, <rdkit.Chem.rdchem.Mol object at 0x7f5d75df28a0>, <rdkit.Chem.rdchem.Mol object at 0x7f5d75df2df0>, <rdkit.Chem.rdchem.Mol object at 0x7f5d75df20d0>, <rdkit.Chem.rdchem.Mol object at 0x7f5d75df2760>, <rdkit.Chem.rdchem.Mol object at 0x7f5d75df2530>, <rdkit.Chem.rdchem.Mol object at 0x7f5d75df2580>, <rdkit.Chem.rdchem.Mol object at 0x7f5d75df2a80>, <rdkit.Chem.rdchem.Mol object at 0x7f5d75df2210>, <rdkit.Chem.rdchem.Mol object at 0x7f5d75df25d0>, <rdkit.Chem.rdchem.Mol object at 0x7f5d75df2a30>, <rdkit.Chem.rdchem.Mol object at 0x7f5d75df2170>, <rdkit.Chem.rdchem.Mol object at 0x7f5d75df2120>, <rdkit.Chem.rdchem.Mol object at 0x7f5d75df2710>]\n"
          ],
          "name": "stdout"
        }
      ]
    },
    {
      "cell_type": "code",
      "metadata": {
        "id": "oK7hdzK5eBmP",
        "colab": {
          "base_uri": "https://localhost:8080/"
        },
        "outputId": "28e5f334-e613-468d-cd9b-5f04431b2bde"
      },
      "source": [
        "allcs=df_4_model.columns[1:-1]\n",
        "X=df_4_model[allcs]\n",
        "\n",
        "\n",
        "y=df_4_model['logKp'].apply(lambda x: float(x.replace(',', '.')))\n",
        "y.iloc[0]"
      ],
      "execution_count": 99,
      "outputs": [
        {
          "output_type": "execute_result",
          "data": {
            "text/plain": [
              "-4.15"
            ]
          },
          "metadata": {
            "tags": []
          },
          "execution_count": 99
        }
      ]
    },
    {
      "cell_type": "code",
      "metadata": {
        "id": "GKj5YuLBi1gw"
      },
      "source": [
        "from sklearn.model_selection import train_test_split"
      ],
      "execution_count": 100,
      "outputs": []
    },
    {
      "cell_type": "code",
      "metadata": {
        "id": "boBjeph6t_zC"
      },
      "source": [
        "X_train, X_test, y_train, y_test = train_test_split(X, y, test_size=0.33, random_state=42)"
      ],
      "execution_count": 101,
      "outputs": []
    },
    {
      "cell_type": "code",
      "metadata": {
        "id": "6CSstlQ5uKO6"
      },
      "source": [
        "from sklearn.ensemble import RandomForestRegressor"
      ],
      "execution_count": 102,
      "outputs": []
    },
    {
      "cell_type": "code",
      "metadata": {
        "id": "m5HPQW1bvPyF"
      },
      "source": [
        "rfc=RandomForestRegressor( n_estimators=100, max_depth=5,  min_samples_split=5, random_state=0,n_jobs=1 )"
      ],
      "execution_count": 103,
      "outputs": []
    },
    {
      "cell_type": "code",
      "metadata": {
        "colab": {
          "base_uri": "https://localhost:8080/"
        },
        "id": "AAUZnr7EvZcl",
        "outputId": "de91bcd1-47de-493f-c819-4c9ed71bdb83"
      },
      "source": [
        "rfc.fit(X_train, y_train)"
      ],
      "execution_count": 106,
      "outputs": [
        {
          "output_type": "execute_result",
          "data": {
            "text/plain": [
              "RandomForestRegressor(bootstrap=True, ccp_alpha=0.0, criterion='mse',\n",
              "                      max_depth=5, max_features='auto', max_leaf_nodes=None,\n",
              "                      max_samples=None, min_impurity_decrease=0.0,\n",
              "                      min_impurity_split=None, min_samples_leaf=1,\n",
              "                      min_samples_split=5, min_weight_fraction_leaf=0.0,\n",
              "                      n_estimators=100, n_jobs=1, oob_score=False,\n",
              "                      random_state=0, verbose=0, warm_start=False)"
            ]
          },
          "metadata": {
            "tags": []
          },
          "execution_count": 106
        }
      ]
    },
    {
      "cell_type": "code",
      "metadata": {
        "id": "Za0K5CuWv2Mi"
      },
      "source": [
        "predicted_pKp=rfc.predict(X_test)"
      ],
      "execution_count": 110,
      "outputs": []
    },
    {
      "cell_type": "code",
      "metadata": {
        "colab": {
          "base_uri": "https://localhost:8080/",
          "height": 392
        },
        "id": "FO3wY1D9MYBf",
        "outputId": "d30bf5f1-9931-4520-bf0e-f3d2c55105bc"
      },
      "source": [
        "import matplotlib.pyplot as plt\n",
        "y_test.values\n",
        "plt.figure(figsize=(9,6))\n",
        "plt.plot(predicted_pKp)\n",
        "plt.plot(y_test.values)\n",
        "plt.legend(['Predicted values', 'Real values'])"
      ],
      "execution_count": 122,
      "outputs": [
        {
          "output_type": "execute_result",
          "data": {
            "text/plain": [
              "<matplotlib.legend.Legend at 0x7f5d60a42e10>"
            ]
          },
          "metadata": {
            "tags": []
          },
          "execution_count": 122
        },
        {
          "output_type": "display_data",
          "data": {
            "image/png": "[encoded data removed]",
            "text/plain": [
              "<Figure size 648x432 with 1 Axes>"
            ]
          },
          "metadata": {
            "tags": [],
            "needs_background": "light"
          }
        }
      ]
    },
    {
      "cell_type": "code",
      "metadata": {
        "id": "kr3pnTGJNUh6"
      },
      "source": [
        "from sklearn.metrics import mean_absolute_error, r2_score"
      ],
      "execution_count": 127,
      "outputs": []
    },
    {
      "cell_type": "code",
      "metadata": {
        "colab": {
          "base_uri": "https://localhost:8080/"
        },
        "id": "BOx-Jb-8QOmc",
        "outputId": "30aa6e60-9381-43f0-d678-1f6f636b9bb8"
      },
      "source": [
        "print (mean_absolute_error(y_test, predicted_pKp))\n",
        "print (r2_score(y_test, predicted_pKp))\n",
        "\n",
        "#rfc.class_weight"
      ],
      "execution_count": 129,
      "outputs": [
        {
          "output_type": "stream",
          "text": [
            "0.5782591591259642\n",
            "0.36187718764418564\n"
          ],
          "name": "stdout"
        }
      ]
    },
    {
      "cell_type": "code",
      "metadata": {
        "id": "Orh_lwJ-Rays"
      },
      "source": [
        ""
      ],
      "execution_count": null,
      "outputs": []
    }
  ]
}